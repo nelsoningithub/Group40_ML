{
 "cells": [
  {
   "cell_type": "code",
   "execution_count": 1,
   "metadata": {},
   "outputs": [
    {
     "name": "stdout",
     "output_type": "stream",
     "text": [
      "2.5.1+cu118\n",
      "0.20.1+cu118\n",
      "PyTorch version: 2.5.1+cu118\n",
      "CUDA available: True\n",
      "Current device: 0\n",
      "Device name: NVIDIA GeForce RTX 4070 Laptop GPU\n"
     ]
    }
   ],
   "source": [
    "import os\n",
    "import random\n",
    "import string\n",
    "from PIL import Image, ImageDraw, ImageFont\n",
    "# os.environ[\"CUDA_VISIBLE_DEVICES\"] = '0'\n",
    "import torch\n",
    "import torchvision  # Add this line\n",
    "import torch.nn as nn\n",
    "from torch.utils.data import DataLoader, Dataset\n",
    "from torchvision import transforms\n",
    "import torch.optim as optim\n",
    "from tqdm import tqdm\n",
    "import torch.nn.functional as F\n",
    "import shutil\n",
    "# Debugging information\n",
    "print(torch.__version__)\n",
    "print(torchvision.__version__)  \n",
    "print(f\"PyTorch version: {torch.__version__}\")\n",
    "print(f\"CUDA available: {torch.cuda.is_available()}\")\n",
    "print(f\"Current device: {torch.cuda.current_device() if torch.cuda.is_available() else 'CPU'}\")\n",
    "if torch.cuda.is_available():\n",
    "    print(f\"Device name: {torch.cuda.get_device_name(0)}\")"
   ]
  },
  {
   "cell_type": "code",
   "execution_count": 1,
   "metadata": {},
   "outputs": [
    {
     "name": "stdout",
     "output_type": "stream",
     "text": [
      "Copying training files...\n",
      "Copying testing files...\n",
      "Copying testing files2...\n",
      "Dataset split complete.\n",
      "Training files: 6000\n",
      "Testing files: 4000\n",
      "Testing files2: 2477\n"
     ]
    }
   ],
   "source": [
    "# Paths\n",
    "BASE_DIR = \"./dataset\"\n",
    "NO_WATERMARK_DIR = os.path.join(BASE_DIR, \"no_watermark\")\n",
    "WATERMARKED_DIR = os.path.join(BASE_DIR, \"watermarked\")\n",
    "MASKS_DIR = os.path.join(BASE_DIR, \"masks\")\n",
    "\n",
    "OUTPUT_DIR = \"./dataset_split\"\n",
    "TRAIN_DIR = os.path.join(OUTPUT_DIR, \"train1\")\n",
    "TEST_DIR = os.path.join(OUTPUT_DIR, \"test1\")\n",
    "TEST2_DIR = os.path.join(OUTPUT_DIR, \"test2\")\n",
    "\n",
    "# Create output directories\n",
    "os.makedirs(os.path.join(TRAIN_DIR, \"no_watermark\"), exist_ok=True)\n",
    "os.makedirs(os.path.join(TRAIN_DIR, \"watermarked\"), exist_ok=True)\n",
    "os.makedirs(os.path.join(TRAIN_DIR, \"masks\"), exist_ok=True)\n",
    "\n",
    "os.makedirs(os.path.join(TEST_DIR, \"no_watermark\"), exist_ok=True)\n",
    "os.makedirs(os.path.join(TEST_DIR, \"watermarked\"), exist_ok=True)\n",
    "os.makedirs(os.path.join(TEST_DIR, \"masks\"), exist_ok=True)\n",
    "\n",
    "os.makedirs(os.path.join(TEST2_DIR, \"no_watermark\"), exist_ok=True)\n",
    "os.makedirs(os.path.join(TEST2_DIR, \"watermarked\"), exist_ok=True)\n",
    "\n",
    "# File names\n",
    "file_names = sorted(os.listdir(NO_WATERMARK_DIR))\n",
    "total_files = len(file_names)\n",
    "\n",
    "# Split sizes\n",
    "TRAIN_SPLIT = 6000  # 6000 for training\n",
    "TEST_SPLIT = 10000  # Remaining 50% for testing\n",
    "\n",
    "train_files = file_names[:TRAIN_SPLIT]\n",
    "test_files = file_names[TRAIN_SPLIT:TEST_SPLIT]\n",
    "test2_files = file_names[TEST_SPLIT:]\n",
    "\n",
    "# Function to copy files\n",
    "def copy_files(file_list, src_dir, dest_dir):\n",
    "    for file_name in file_list:\n",
    "        src_path = os.path.join(src_dir, file_name)\n",
    "        dest_path = os.path.join(dest_dir, file_name)\n",
    "        if os.path.exists(src_path):\n",
    "            shutil.copy(src_path, dest_path)\n",
    "\n",
    "# Copy training files\n",
    "print(\"Copying training files...\")\n",
    "copy_files(train_files, NO_WATERMARK_DIR, os.path.join(TRAIN_DIR, \"no_watermark\"))\n",
    "copy_files(train_files, WATERMARKED_DIR, os.path.join(TRAIN_DIR, \"watermarked\"))\n",
    "copy_files(train_files, MASKS_DIR, os.path.join(TRAIN_DIR, \"masks\"))\n",
    "\n",
    "# Copy testing files (only watermarked and masks)\n",
    "print(\"Copying testing files...\")\n",
    "copy_files(test_files, NO_WATERMARK_DIR, os.path.join(TEST_DIR, \"no_watermark\"))\n",
    "copy_files(test_files, WATERMARKED_DIR, os.path.join(TEST_DIR, \"watermarked\"))\n",
    "copy_files(test_files, MASKS_DIR, os.path.join(TEST_DIR, \"masks\"))\n",
    "\n",
    "print(\"Copying testing files2...\")\n",
    "copy_files(test2_files, NO_WATERMARK_DIR, os.path.join(TEST2_DIR, \"no_watermark\"))\n",
    "copy_files(test2_files, WATERMARKED_DIR, os.path.join(TEST2_DIR, \"watermarked\"))\n",
    "\n",
    "# Summary\n",
    "print(f\"Dataset split complete.\")\n",
    "print(f\"Training files: {len(train_files)}\")\n",
    "print(f\"Testing files: {len(test_files)}\")\n",
    "print(f\"Testing files2: {len(test2_files)}\")"
   ]
  },
  {
   "cell_type": "code",
   "execution_count": 3,
   "metadata": {},
   "outputs": [
    {
     "name": "stdout",
     "output_type": "stream",
     "text": [
      "Using device: cuda\n",
      "Starting training...\n"
     ]
    },
    {
     "name": "stderr",
     "output_type": "stream",
     "text": [
      "Epoch 1/20: 100%|██████████| 6000/6000 [03:53<00:00, 25.74it/s]\n"
     ]
    },
    {
     "name": "stdout",
     "output_type": "stream",
     "text": [
      "Epoch 1/20, Loss: 0.0790\n"
     ]
    },
    {
     "name": "stderr",
     "output_type": "stream",
     "text": [
      "Epoch 2/20: 100%|██████████| 6000/6000 [04:02<00:00, 24.79it/s]\n"
     ]
    },
    {
     "name": "stdout",
     "output_type": "stream",
     "text": [
      "Epoch 2/20, Loss: 0.0450\n"
     ]
    },
    {
     "name": "stderr",
     "output_type": "stream",
     "text": [
      "Epoch 3/20: 100%|██████████| 6000/6000 [04:09<00:00, 24.07it/s]\n"
     ]
    },
    {
     "name": "stdout",
     "output_type": "stream",
     "text": [
      "Epoch 3/20, Loss: 0.0380\n"
     ]
    },
    {
     "name": "stderr",
     "output_type": "stream",
     "text": [
      "Epoch 4/20: 100%|██████████| 6000/6000 [04:21<00:00, 22.92it/s]\n"
     ]
    },
    {
     "name": "stdout",
     "output_type": "stream",
     "text": [
      "Epoch 4/20, Loss: 0.0347\n"
     ]
    },
    {
     "name": "stderr",
     "output_type": "stream",
     "text": [
      "Epoch 5/20: 100%|██████████| 6000/6000 [04:24<00:00, 22.68it/s]\n"
     ]
    },
    {
     "name": "stdout",
     "output_type": "stream",
     "text": [
      "Epoch 5/20, Loss: 0.0326\n"
     ]
    },
    {
     "name": "stderr",
     "output_type": "stream",
     "text": [
      "Epoch 6/20: 100%|██████████| 6000/6000 [04:13<00:00, 23.70it/s]\n"
     ]
    },
    {
     "name": "stdout",
     "output_type": "stream",
     "text": [
      "Epoch 6/20, Loss: 0.0311\n"
     ]
    },
    {
     "name": "stderr",
     "output_type": "stream",
     "text": [
      "Epoch 7/20: 100%|██████████| 6000/6000 [04:27<00:00, 22.43it/s]\n"
     ]
    },
    {
     "name": "stdout",
     "output_type": "stream",
     "text": [
      "Epoch 7/20, Loss: 0.0298\n"
     ]
    },
    {
     "name": "stderr",
     "output_type": "stream",
     "text": [
      "Epoch 8/20: 100%|██████████| 6000/6000 [04:12<00:00, 23.74it/s]\n"
     ]
    },
    {
     "name": "stdout",
     "output_type": "stream",
     "text": [
      "Epoch 8/20, Loss: 0.0287\n"
     ]
    },
    {
     "name": "stderr",
     "output_type": "stream",
     "text": [
      "Epoch 9/20: 100%|██████████| 6000/6000 [04:05<00:00, 24.47it/s]\n"
     ]
    },
    {
     "name": "stdout",
     "output_type": "stream",
     "text": [
      "Epoch 9/20, Loss: 0.0276\n"
     ]
    },
    {
     "name": "stderr",
     "output_type": "stream",
     "text": [
      "Epoch 10/20: 100%|██████████| 6000/6000 [04:08<00:00, 24.11it/s]\n"
     ]
    },
    {
     "name": "stdout",
     "output_type": "stream",
     "text": [
      "Epoch 10/20, Loss: 0.0268\n"
     ]
    },
    {
     "name": "stderr",
     "output_type": "stream",
     "text": [
      "Epoch 11/20: 100%|██████████| 6000/6000 [04:07<00:00, 24.24it/s]\n"
     ]
    },
    {
     "name": "stdout",
     "output_type": "stream",
     "text": [
      "Epoch 11/20, Loss: 0.0261\n"
     ]
    },
    {
     "name": "stderr",
     "output_type": "stream",
     "text": [
      "Epoch 12/20: 100%|██████████| 6000/6000 [04:11<00:00, 23.89it/s]\n"
     ]
    },
    {
     "name": "stdout",
     "output_type": "stream",
     "text": [
      "Epoch 12/20, Loss: 0.0254\n"
     ]
    },
    {
     "name": "stderr",
     "output_type": "stream",
     "text": [
      "Epoch 13/20: 100%|██████████| 6000/6000 [04:16<00:00, 23.38it/s]\n"
     ]
    },
    {
     "name": "stdout",
     "output_type": "stream",
     "text": [
      "Epoch 13/20, Loss: 0.0247\n"
     ]
    },
    {
     "name": "stderr",
     "output_type": "stream",
     "text": [
      "Epoch 14/20: 100%|██████████| 6000/6000 [04:10<00:00, 23.91it/s]\n"
     ]
    },
    {
     "name": "stdout",
     "output_type": "stream",
     "text": [
      "Epoch 14/20, Loss: 0.0240\n"
     ]
    },
    {
     "name": "stderr",
     "output_type": "stream",
     "text": [
      "Epoch 15/20: 100%|██████████| 6000/6000 [04:06<00:00, 24.30it/s]\n"
     ]
    },
    {
     "name": "stdout",
     "output_type": "stream",
     "text": [
      "Epoch 15/20, Loss: 0.0236\n"
     ]
    },
    {
     "name": "stderr",
     "output_type": "stream",
     "text": [
      "Epoch 16/20: 100%|██████████| 6000/6000 [04:10<00:00, 23.99it/s]\n"
     ]
    },
    {
     "name": "stdout",
     "output_type": "stream",
     "text": [
      "Epoch 16/20, Loss: 0.0231\n"
     ]
    },
    {
     "name": "stderr",
     "output_type": "stream",
     "text": [
      "Epoch 17/20: 100%|██████████| 6000/6000 [04:13<00:00, 23.64it/s]\n"
     ]
    },
    {
     "name": "stdout",
     "output_type": "stream",
     "text": [
      "Epoch 17/20, Loss: 0.0227\n"
     ]
    },
    {
     "name": "stderr",
     "output_type": "stream",
     "text": [
      "Epoch 18/20: 100%|██████████| 6000/6000 [04:13<00:00, 23.64it/s]\n"
     ]
    },
    {
     "name": "stdout",
     "output_type": "stream",
     "text": [
      "Epoch 18/20, Loss: 0.0222\n"
     ]
    },
    {
     "name": "stderr",
     "output_type": "stream",
     "text": [
      "Epoch 19/20: 100%|██████████| 6000/6000 [04:14<00:00, 23.61it/s]\n"
     ]
    },
    {
     "name": "stdout",
     "output_type": "stream",
     "text": [
      "Epoch 19/20, Loss: 0.0219\n"
     ]
    },
    {
     "name": "stderr",
     "output_type": "stream",
     "text": [
      "Epoch 20/20: 100%|██████████| 6000/6000 [04:15<00:00, 23.50it/s]"
     ]
    },
    {
     "name": "stdout",
     "output_type": "stream",
     "text": [
      "Epoch 20/20, Loss: 0.0216\n",
      "Feature Extractor saved.\n"
     ]
    },
    {
     "name": "stderr",
     "output_type": "stream",
     "text": [
      "\n"
     ]
    }
   ],
   "source": [
    "# Set device\n",
    "DEVICE = \"cuda\" if torch.cuda.is_available() else \"cpu\"\n",
    "print(f\"Using device: {DEVICE}\")\n",
    "\n",
    "# Hyperparameters\n",
    "EPOCHS = 20\n",
    "LEARNING_RATE = 0.0001\n",
    "WINDOW_SIZE = 64\n",
    "STRIDE = 32\n",
    "\n",
    "# Dataset paths\n",
    "TRAIN_DIR = \"./dataset_split/train1\"\n",
    "TEST_DIR = \"./dataset_split/test1\"\n",
    "MASK_OUTPUT_DIR = \"./test_mask_results\"\n",
    "os.makedirs(MASK_OUTPUT_DIR, exist_ok=True)\n",
    "\n",
    "# Data transformations (no resizing to retain original sizes)\n",
    "transform = transforms.Compose([\n",
    "    transforms.ToTensor()  # Convert to tensor while retaining original size\n",
    "])\n",
    "\n",
    "# Custom Dataset\n",
    "class WatermarkSlidingWindowDataset(Dataset):\n",
    "    def __init__(self, watermark_dir, mask_dir, transform=None):\n",
    "        self.watermark_dir = watermark_dir\n",
    "        self.mask_dir = mask_dir\n",
    "        self.images = sorted(os.listdir(watermark_dir))\n",
    "        self.transform = transform\n",
    "\n",
    "    def __len__(self):\n",
    "        return len(self.images)\n",
    "\n",
    "    def __getitem__(self, idx):\n",
    "        watermark_path = os.path.join(self.watermark_dir, self.images[idx])\n",
    "        watermark_img = Image.open(watermark_path).convert(\"RGB\")\n",
    "        \n",
    "        mask_img = None  # Default to None in case masks are not used\n",
    "        if self.mask_dir:\n",
    "            mask_path = os.path.join(self.mask_dir, self.images[idx])\n",
    "            mask_img = Image.open(mask_path).convert(\"L\")  # Mask is single-channel\n",
    "\n",
    "        original_size = watermark_img.size  # Save original image size (width, height)\n",
    "        filename = self.images[idx]  # Save the filename for reference\n",
    "\n",
    "        if self.transform:\n",
    "            watermark_img = self.transform(watermark_img)\n",
    "            if mask_img is not None:\n",
    "                mask_img = self.transform(mask_img)\n",
    "\n",
    "        return watermark_img, mask_img, original_size, filename\n",
    "\n",
    "\n",
    "# Custom collate_fn to handle varying image sizes\n",
    "def collate_fn(batch):\n",
    "    return batch\n",
    "\n",
    "# Load training and testing datasets\n",
    "train_dataset = WatermarkSlidingWindowDataset(\n",
    "    watermark_dir=os.path.join(TRAIN_DIR, \"watermarked\"),\n",
    "    mask_dir=os.path.join(TRAIN_DIR, \"masks\"),\n",
    "    transform=transform\n",
    ")\n",
    "\n",
    "test_dataset = WatermarkSlidingWindowDataset(\n",
    "    watermark_dir=os.path.join(TEST_DIR, \"watermarked\"),\n",
    "    mask_dir=os.path.join(TEST_DIR, \"masks\"),\n",
    "    transform=transform\n",
    ")\n",
    "\n",
    "train_loader = DataLoader(train_dataset, batch_size=1, shuffle=True, collate_fn=collate_fn)\n",
    "test_loader = DataLoader(test_dataset, batch_size=1, shuffle=False, collate_fn=collate_fn)\n",
    "\n",
    "class UNetFeatureExtractor(nn.Module):\n",
    "    def __init__(self, in_channels=3, out_channels=1):\n",
    "        super(UNetFeatureExtractor, self).__init__()\n",
    "\n",
    "        # Encoder: Downsampling layers\n",
    "        self.encoder1 = self.conv_block(in_channels, 64)\n",
    "        self.encoder2 = self.conv_block(64, 128)\n",
    "        self.encoder3 = self.conv_block(128, 256)\n",
    "        self.encoder4 = self.conv_block(256, 512)\n",
    "        \n",
    "        # Middle layer\n",
    "        self.middle = self.conv_block(512, 1024, is_middle=True)\n",
    "        \n",
    "        # Decoder: Upsampling layers\n",
    "        self.decoder4 = self.upconv_block(1024, 512)\n",
    "        self.decoder3 = self.upconv_block(512, 256)\n",
    "        self.decoder2 = self.upconv_block(256, 128)\n",
    "        self.decoder1 = self.upconv_block(128, 64)\n",
    "\n",
    "        # Layers to adjust channel dimensions after skip connections\n",
    "        self.conv4 = nn.Conv2d(1024, 512, kernel_size=1)  # Adjust channels\n",
    "        self.conv3 = nn.Conv2d(512, 256, kernel_size=1)\n",
    "        self.conv2 = nn.Conv2d(256, 128, kernel_size=1)\n",
    "        self.conv1 = nn.Conv2d(128, 64, kernel_size=1)\n",
    "        \n",
    "        # Final output layer\n",
    "        self.final_conv = nn.Conv2d(64, out_channels, kernel_size=1)\n",
    "        self.sigmoid = nn.Sigmoid()  # Outputs a mask with values in [0, 1]\n",
    "\n",
    "    def conv_block(self, in_channels, out_channels, is_middle=False):\n",
    "        \"\"\"Helper function to create convolutional blocks, mainly for the encoder and middle layers.\"\"\"\n",
    "        layers = [\n",
    "            nn.Conv2d(in_channels, out_channels, kernel_size=3, padding=1),\n",
    "            nn.ReLU(inplace=True),\n",
    "            nn.Conv2d(out_channels, out_channels, kernel_size=3, padding=1),\n",
    "            nn.ReLU(inplace=True),\n",
    "        ]\n",
    "        if not is_middle:\n",
    "            layers.append(nn.MaxPool2d(2))  # Downsample\n",
    "        return nn.Sequential(*layers)\n",
    "\n",
    "    def upconv_block(self, in_channels, out_channels):\n",
    "        \"\"\"Upsampling block in the decoder, using transpose convolution.\"\"\"\n",
    "        return nn.Sequential(\n",
    "            nn.ConvTranspose2d(in_channels, out_channels, kernel_size=2, stride=2),\n",
    "            nn.ReLU(inplace=True),\n",
    "        )\n",
    "\n",
    "    def forward(self, x):\n",
    "        # Encoding phase\n",
    "        enc1 = self.encoder1(x)  # Output: 64 channels\n",
    "        enc2 = self.encoder2(enc1)  # Output: 128 channels\n",
    "        enc3 = self.encoder3(enc2)  # Output: 256 channels\n",
    "        enc4 = self.encoder4(enc3)  # Output: 512 channels\n",
    "\n",
    "        # Middle layer\n",
    "        middle = self.middle(enc4)  # Output: 1024 channels\n",
    "        \n",
    "        # Decoding phase with skip connections\n",
    "        dec4 = self.decoder4(middle)  # Output: 512 channels\n",
    "        dec4 = F.interpolate(dec4, size=enc4.shape[2:], mode='bilinear', align_corners=False)  # Match size\n",
    "        dec4 = torch.cat([dec4, enc4], dim=1)  # Skip connection\n",
    "        dec4 = self.conv4(dec4)  # Adjust channels\n",
    "\n",
    "        dec3 = self.decoder3(dec4)  # Output: 256 channels\n",
    "        dec3 = F.interpolate(dec3, size=enc3.shape[2:], mode='bilinear', align_corners=False)  # Match size\n",
    "        dec3 = torch.cat([dec3, enc3], dim=1)  # Skip connection\n",
    "        dec3 = self.conv3(dec3)  # Adjust channels\n",
    "\n",
    "        dec2 = self.decoder2(dec3)  # Output: 128 channels\n",
    "        dec2 = F.interpolate(dec2, size=enc2.shape[2:], mode='bilinear', align_corners=False)  # Match size\n",
    "        dec2 = torch.cat([dec2, enc2], dim=1)  # Skip connection\n",
    "        dec2 = self.conv2(dec2)  # Adjust channels\n",
    "\n",
    "        dec1 = self.decoder1(dec2)  # Output: 64 channels\n",
    "        dec1 = F.interpolate(dec1, size=enc1.shape[2:], mode='bilinear', align_corners=False)  # Match size\n",
    "        dec1 = torch.cat([dec1, enc1], dim=1)  # Skip connection\n",
    "        dec1 = self.conv1(dec1)  # Adjust channels\n",
    "\n",
    "        # Final output\n",
    "        out = self.final_conv(dec1)  # Output: 1 channel\n",
    "        out = self.sigmoid(out)  # Mask output with values in [0, 1]\n",
    "        \n",
    "        return out\n",
    "\n",
    "\n",
    "\n",
    "# Initialize model, optimizer, and loss function\n",
    "model = UNetFeatureExtractor(in_channels=3, out_channels=1).to(DEVICE)\n",
    "optimizer = optim.Adam(model.parameters(), lr=LEARNING_RATE)\n",
    "criterion = nn.BCELoss()  # Binary Cross-Entropy Loss\n",
    "\n",
    "# Training loop\n",
    "print(\"Starting training...\")\n",
    "for epoch in range(EPOCHS):\n",
    "    model.train()\n",
    "    epoch_loss = 0\n",
    "    for batch in tqdm(train_loader, desc=f\"Epoch {epoch+1}/{EPOCHS}\"):\n",
    "        watermarked_imgs, masks, original_sizes, filenames = batch[0]\n",
    "        watermarked_imgs = watermarked_imgs.to(DEVICE).unsqueeze(0)  # Add batch dimension\n",
    "        masks = masks.to(DEVICE).unsqueeze(0)\n",
    "\n",
    "        optimizer.zero_grad()\n",
    "        mask_pred = model(watermarked_imgs)\n",
    "        # Resize predicted mask to target size\n",
    "        _, _, target_h, target_w = masks.shape\n",
    "        mask_pred = torch.nn.functional.interpolate(mask_pred, size=(target_h, target_w), mode='bilinear', align_corners=True)\n",
    "        loss = criterion(mask_pred, masks)\n",
    "        loss.backward()\n",
    "        optimizer.step()\n",
    "\n",
    "        epoch_loss += loss.item()\n",
    "\n",
    "    print(f\"Epoch {epoch+1}/{EPOCHS}, Loss: {epoch_loss / len(train_loader):.4f}\")\n",
    "\n",
    "# Save the model\n",
    "FEATURE_EXTRACTOR_PATH = \"feature_extractor.pth\"\n",
    "torch.save(model.state_dict(), FEATURE_EXTRACTOR_PATH)\n",
    "print(\"Feature Extractor saved.\")"
   ]
  },
  {
   "cell_type": "code",
   "execution_count": 4,
   "metadata": {},
   "outputs": [
    {
     "name": "stderr",
     "output_type": "stream",
     "text": [
      "C:\\Users\\nelson33\\AppData\\Local\\Temp\\ipykernel_28164\\2655142497.py:12: FutureWarning: You are using `torch.load` with `weights_only=False` (the current default value), which uses the default pickle module implicitly. It is possible to construct malicious pickle data which will execute arbitrary code during unpickling (See https://github.com/pytorch/pytorch/blob/main/SECURITY.md#untrusted-models for more details). In a future release, the default value for `weights_only` will be flipped to `True`. This limits the functions that could be executed during unpickling. Arbitrary objects will no longer be allowed to be loaded via this mode unless they are explicitly allowlisted by the user via `torch.serialization.add_safe_globals`. We recommend you start setting `weights_only=True` for any use case where you don't have full control of the loaded file. Please open an issue on GitHub for any issues related to this experimental feature.\n",
      "  model.load_state_dict(torch.load(model_path, map_location=DEVICE))\n"
     ]
    },
    {
     "name": "stdout",
     "output_type": "stream",
     "text": [
      "Testing feature extractor...\n"
     ]
    },
    {
     "name": "stderr",
     "output_type": "stream",
     "text": [
      "100%|██████████| 4000/4000 [01:05<00:00, 60.82it/s]"
     ]
    },
    {
     "name": "stdout",
     "output_type": "stream",
     "text": [
      "All masks generated and saved.\n"
     ]
    },
    {
     "name": "stderr",
     "output_type": "stream",
     "text": [
      "\n"
     ]
    }
   ],
   "source": [
    "# torch.save(model, \"feature_extractor_model.pth\")\n",
    "# test_dataset = WatermarkSlidingWindowDataset(\n",
    "#     watermark_dir=os.path.join(TEST_DIR, \"watermarked\"),\n",
    "#     mask_dir=os.path.join(TEST_DIR, \"masks\"),\n",
    "#     transform=transform\n",
    "# )\n",
    "\n",
    "# test_loader = DataLoader(test_dataset, batch_size=1, shuffle=False, collate_fn=collate_fn)\n",
    "\n",
    "def test_feature_extractor(test_loader, model_path, mask_path):\n",
    "    print(\"Testing feature extractor...\")\n",
    "    model.load_state_dict(torch.load(model_path, map_location=DEVICE))\n",
    "    # model = torch.load(\"feature_extractor_model.pth\", map_location=DEVICE)\n",
    "    model.eval()\n",
    "\n",
    "    with torch.no_grad():\n",
    "        for i, batch in enumerate(tqdm(test_loader)):\n",
    "            # Extract watermarked image, mask, original size, and filename\n",
    "            watermarked_imgs, masks, original_sizes, filenames = batch[0]\n",
    "\n",
    "            # Debug: Print the filename being processed\n",
    "            # print(f\"Processing image: {filenames}\")\n",
    "\n",
    "            watermarked_imgs = watermarked_imgs.to(DEVICE).unsqueeze(0)\n",
    "            mask_pred = model(watermarked_imgs)\n",
    "\n",
    "            # Resize predicted mask to original size\n",
    "            original_size = original_sizes  # (width, height)\n",
    "            filename = filenames\n",
    "\n",
    "            # Extract base name and ensure valid file extension\n",
    "            base_name, ext = os.path.splitext(filename)\n",
    "            if ext.lower() not in [\".jpg\", \".jpeg\", \".png\"]:  # Handle invalid extensions\n",
    "                ext = \".png\"  # Default to PNG if extension is missing or invalid\n",
    "\n",
    "            mask_pred_img = transforms.ToPILImage()(mask_pred.squeeze(0).cpu())\n",
    "            mask_pred_resized = mask_pred_img.resize(original_size, Image.BILINEAR)\n",
    "\n",
    "            # Save predicted mask\n",
    "            output_file = os.path.join(mask_path, f\"{base_name}{ext}\")\n",
    "            mask_pred_resized.save(output_file)\n",
    "\n",
    "            # print(f\"Saved mask: {output_file}\")\n",
    "\n",
    "    print(\"All masks generated and saved.\")\n",
    "\n",
    "# Test the feature extractor\n",
    "test_feature_extractor(test_loader, FEATURE_EXTRACTOR_PATH, MASK_OUTPUT_DIR)\n"
   ]
  },
  {
   "cell_type": "code",
   "execution_count": 6,
   "metadata": {},
   "outputs": [
    {
     "name": "stderr",
     "output_type": "stream",
     "text": [
      "C:\\Users\\nelson33\\AppData\\Local\\Temp\\ipykernel_28164\\2655142497.py:12: FutureWarning: You are using `torch.load` with `weights_only=False` (the current default value), which uses the default pickle module implicitly. It is possible to construct malicious pickle data which will execute arbitrary code during unpickling (See https://github.com/pytorch/pytorch/blob/main/SECURITY.md#untrusted-models for more details). In a future release, the default value for `weights_only` will be flipped to `True`. This limits the functions that could be executed during unpickling. Arbitrary objects will no longer be allowed to be loaded via this mode unless they are explicitly allowlisted by the user via `torch.serialization.add_safe_globals`. We recommend you start setting `weights_only=True` for any use case where you don't have full control of the loaded file. Please open an issue on GitHub for any issues related to this experimental feature.\n",
      "  model.load_state_dict(torch.load(model_path, map_location=DEVICE))\n"
     ]
    },
    {
     "name": "stdout",
     "output_type": "stream",
     "text": [
      "Testing feature extractor...\n"
     ]
    },
    {
     "name": "stderr",
     "output_type": "stream",
     "text": [
      "100%|██████████| 2477/2477 [00:29<00:00, 84.83it/s] "
     ]
    },
    {
     "name": "stdout",
     "output_type": "stream",
     "text": [
      "All masks generated and saved.\n"
     ]
    },
    {
     "name": "stderr",
     "output_type": "stream",
     "text": [
      "\n"
     ]
    }
   ],
   "source": [
    "# create the mask for test2\n",
    "\n",
    "# define paramete\n",
    "PART2_TEST_DIR = \"./dataset_split/test2\" # later will redefine\n",
    "PART2_TEST_MASK_DIR = \"./test_model_result/mask\" # later will redefine\n",
    "\n",
    "part2_test_dataset = WatermarkSlidingWindowDataset(\n",
    "    watermark_dir=os.path.join(PART2_TEST_DIR, \"watermarked\"),\n",
    "    mask_dir='',\n",
    "    transform=transform\n",
    ")\n",
    "\n",
    "part2_test_loader = DataLoader(part2_test_dataset, batch_size=1, shuffle=False, collate_fn=collate_fn)\n",
    "\n",
    "# predict mask\n",
    "test_feature_extractor(part2_test_loader, FEATURE_EXTRACTOR_PATH, PART2_TEST_MASK_DIR)"
   ]
  },
  {
   "cell_type": "code",
   "execution_count": null,
   "metadata": {},
   "outputs": [
    {
     "ename": "NameError",
     "evalue": "name 'WatermarkSlidingWindowDataset' is not defined",
     "output_type": "error",
     "traceback": [
      "\u001b[1;31m---------------------------------------------------------------------------\u001b[0m",
      "\u001b[1;31mNameError\u001b[0m                                 Traceback (most recent call last)",
      "Cell \u001b[1;32mIn[1], line 7\u001b[0m\n\u001b[0;32m      4\u001b[0m PART2_TEST_DIR \u001b[38;5;241m=\u001b[39m \u001b[38;5;124m\"\u001b[39m\u001b[38;5;124m./true_web_data\u001b[39m\u001b[38;5;124m\"\u001b[39m \u001b[38;5;66;03m# later will redefine\u001b[39;00m\n\u001b[0;32m      5\u001b[0m PART2_TEST_MASK_DIR \u001b[38;5;241m=\u001b[39m \u001b[38;5;124m\"\u001b[39m\u001b[38;5;124m./true_web_data/predicted_mask\u001b[39m\u001b[38;5;124m\"\u001b[39m \u001b[38;5;66;03m# later will redefine\u001b[39;00m\n\u001b[1;32m----> 7\u001b[0m part2_test_dataset \u001b[38;5;241m=\u001b[39m \u001b[43mWatermarkSlidingWindowDataset\u001b[49m(\n\u001b[0;32m      8\u001b[0m     watermark_dir\u001b[38;5;241m=\u001b[39mos\u001b[38;5;241m.\u001b[39mpath\u001b[38;5;241m.\u001b[39mjoin(PART2_TEST_DIR, \u001b[38;5;124m\"\u001b[39m\u001b[38;5;124mwatermarked\u001b[39m\u001b[38;5;124m\"\u001b[39m),\n\u001b[0;32m      9\u001b[0m     mask_dir\u001b[38;5;241m=\u001b[39m\u001b[38;5;124m'\u001b[39m\u001b[38;5;124m'\u001b[39m,\n\u001b[0;32m     10\u001b[0m     transform\u001b[38;5;241m=\u001b[39mtransform\n\u001b[0;32m     11\u001b[0m )\n\u001b[0;32m     13\u001b[0m part2_test_loader \u001b[38;5;241m=\u001b[39m DataLoader(part2_test_dataset, batch_size\u001b[38;5;241m=\u001b[39m\u001b[38;5;241m1\u001b[39m, shuffle\u001b[38;5;241m=\u001b[39m\u001b[38;5;28;01mFalse\u001b[39;00m, collate_fn\u001b[38;5;241m=\u001b[39mcollate_fn)\n\u001b[0;32m     15\u001b[0m \u001b[38;5;66;03m# predict mask\u001b[39;00m\n",
      "\u001b[1;31mNameError\u001b[0m: name 'WatermarkSlidingWindowDataset' is not defined"
     ]
    }
   ],
   "source": [
    "# create the mask for test2\n",
    "\n",
    "# define paramete\n",
    "PART2_TEST_DIR = \"./true_web_data\" # later will redefine\n",
    "PART2_TEST_MASK_DIR = \"./true_web_data/model1/predicted_mask\" # later will redefine\n",
    "\n",
    "part2_test_dataset = WatermarkSlidingWindowDataset(\n",
    "    watermark_dir=os.path.join(PART2_TEST_DIR, \"watermarked\"),\n",
    "    mask_dir='',\n",
    "    transform=transform\n",
    ")\n",
    "\n",
    "part2_test_loader = DataLoader(part2_test_dataset, batch_size=1, shuffle=False, collate_fn=collate_fn)\n",
    "\n",
    "# predict mask\n",
    "test_feature_extractor(part2_test_loader, FEATURE_EXTRACTOR_PATH, PART2_TEST_MASK_DIR)"
   ]
  }
 ],
 "metadata": {
  "kernelspec": {
   "display_name": "Python 3",
   "language": "python",
   "name": "python3"
  },
  "language_info": {
   "codemirror_mode": {
    "name": "ipython",
    "version": 3
   },
   "file_extension": ".py",
   "mimetype": "text/x-python",
   "name": "python",
   "nbconvert_exporter": "python",
   "pygments_lexer": "ipython3",
   "version": "3.12.5"
  }
 },
 "nbformat": 4,
 "nbformat_minor": 2
}
