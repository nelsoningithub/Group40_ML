{
 "cells": [
  {
   "cell_type": "code",
   "execution_count": 23,
   "metadata": {},
   "outputs": [
    {
     "name": "stdout",
     "output_type": "stream",
     "text": [
      "2.5.1+cu118\n",
      "0.20.1+cu118\n",
      "PyTorch version: 2.5.1+cu118\n",
      "CUDA available: True\n",
      "Current device: 0\n",
      "Device name: NVIDIA GeForce RTX 3070 Ti\n"
     ]
    }
   ],
   "source": [
    "import os\n",
    "import random\n",
    "import string\n",
    "from PIL import Image, ImageDraw, ImageFont\n",
    "# os.environ[\"CUDA_VISIBLE_DEVICES\"] = '0'\n",
    "import torch\n",
    "import torchvision  # Add this line\n",
    "import torch.nn as nn\n",
    "from torch.utils.data import DataLoader, Dataset\n",
    "from torchvision import transforms\n",
    "import torch.optim as optim\n",
    "from tqdm import tqdm\n",
    "import torch.nn.functional as F\n",
    "import shutil\n",
    "# Debugging information\n",
    "print(torch.__version__)\n",
    "print(torchvision.__version__)  \n",
    "print(f\"PyTorch version: {torch.__version__}\")\n",
    "print(f\"CUDA available: {torch.cuda.is_available()}\")\n",
    "print(f\"Current device: {torch.cuda.current_device() if torch.cuda.is_available() else 'CPU'}\")\n",
    "if torch.cuda.is_available():\n",
    "    print(f\"Device name: {torch.cuda.get_device_name(0)}\")"
   ]
  },
  {
   "cell_type": "code",
   "execution_count": 24,
   "metadata": {},
   "outputs": [
    {
     "name": "stdout",
     "output_type": "stream",
     "text": [
      "Copying training files...\n",
      "Copying testing files...\n",
      "Copying testing files2...\n",
      "Dataset split complete.\n",
      "Training files: 6000\n",
      "Testing files: 4000\n",
      "Testing files2: 2477\n"
     ]
    }
   ],
   "source": [
    "import os\n",
    "import shutil\n",
    "\n",
    "# Paths\n",
    "BASE_DIR = \"./dataset\"\n",
    "NO_WATERMARK_DIR = os.path.join(BASE_DIR, \"no_watermark\")\n",
    "WATERMARKED_DIR = os.path.join(BASE_DIR, \"watermarked\")\n",
    "MASKS_DIR = os.path.join(BASE_DIR, \"masks\")\n",
    "\n",
    "OUTPUT_DIR = \"./dataset_split\"\n",
    "TRAIN_DIR = os.path.join(OUTPUT_DIR, \"train1\")\n",
    "TEST_DIR = os.path.join(OUTPUT_DIR, \"test1\")\n",
    "TEST2_DIR = os.path.join(OUTPUT_DIR, \"test2\")\n",
    "\n",
    "# Create output directories\n",
    "os.makedirs(os.path.join(TRAIN_DIR, \"no_watermark\"), exist_ok=True)\n",
    "os.makedirs(os.path.join(TRAIN_DIR, \"watermarked\"), exist_ok=True)\n",
    "os.makedirs(os.path.join(TRAIN_DIR, \"masks\"), exist_ok=True)\n",
    "\n",
    "os.makedirs(os.path.join(TEST_DIR, \"no_watermark\"), exist_ok=True)\n",
    "os.makedirs(os.path.join(TEST_DIR, \"watermarked\"), exist_ok=True)\n",
    "os.makedirs(os.path.join(TEST_DIR, \"masks\"), exist_ok=True)\n",
    "\n",
    "os.makedirs(os.path.join(TEST2_DIR, \"no_watermark\"), exist_ok=True)\n",
    "os.makedirs(os.path.join(TEST2_DIR, \"watermarked\"), exist_ok=True)\n",
    "\n",
    "# File names\n",
    "file_names = sorted(os.listdir(NO_WATERMARK_DIR))\n",
    "total_files = len(file_names)\n",
    "\n",
    "# Split sizes\n",
    "TRAIN_SPLIT = 6000  # 6000 for training\n",
    "TEST_SPLIT = 10000  # Remaining 50% for testing\n",
    "\n",
    "train_files = file_names[:TRAIN_SPLIT]\n",
    "test_files = file_names[TRAIN_SPLIT:TEST_SPLIT]\n",
    "test2_files = file_names[TEST_SPLIT:]\n",
    "\n",
    "# Function to copy files\n",
    "def copy_files(file_list, src_dir, dest_dir):\n",
    "    for file_name in file_list:\n",
    "        src_path = os.path.join(src_dir, file_name)\n",
    "        dest_path = os.path.join(dest_dir, file_name)\n",
    "        if os.path.exists(src_path):\n",
    "            shutil.copy(src_path, dest_path)\n",
    "\n",
    "# Copy training files\n",
    "print(\"Copying training files...\")\n",
    "copy_files(train_files, NO_WATERMARK_DIR, os.path.join(TRAIN_DIR, \"no_watermark\"))\n",
    "copy_files(train_files, WATERMARKED_DIR, os.path.join(TRAIN_DIR, \"watermarked\"))\n",
    "copy_files(train_files, MASKS_DIR, os.path.join(TRAIN_DIR, \"masks\"))\n",
    "\n",
    "# Copy testing files (only watermarked and masks)\n",
    "print(\"Copying testing files...\")\n",
    "copy_files(test_files, NO_WATERMARK_DIR, os.path.join(TEST_DIR, \"no_watermark\"))\n",
    "copy_files(test_files, WATERMARKED_DIR, os.path.join(TEST_DIR, \"watermarked\"))\n",
    "copy_files(test_files, MASKS_DIR, os.path.join(TEST_DIR, \"masks\"))\n",
    "\n",
    "print(\"Copying testing files2...\")\n",
    "copy_files(test2_files, NO_WATERMARK_DIR, os.path.join(TEST2_DIR, \"no_watermark\"))\n",
    "copy_files(test2_files, WATERMARKED_DIR, os.path.join(TEST2_DIR, \"watermarked\"))\n",
    "\n",
    "# Summary\n",
    "print(f\"Dataset split complete.\")\n",
    "print(f\"Training files: {len(train_files)}\")\n",
    "print(f\"Testing files: {len(test_files)}\")\n",
    "print(f\"Testing files2: {len(test2_files)}\")"
   ]
  },
  {
   "cell_type": "code",
   "execution_count": 25,
   "metadata": {},
   "outputs": [
    {
     "name": "stdout",
     "output_type": "stream",
     "text": [
      "Using device: cuda\n",
      "Starting training...\n"
     ]
    },
    {
     "name": "stderr",
     "output_type": "stream",
     "text": [
      "Epoch 1/20: 100%|██████████| 6000/6000 [05:44<00:00, 17.42it/s]\n"
     ]
    },
    {
     "name": "stdout",
     "output_type": "stream",
     "text": [
      "Epoch 1/20, Loss: 0.0771\n"
     ]
    },
    {
     "name": "stderr",
     "output_type": "stream",
     "text": [
      "Epoch 2/20: 100%|██████████| 6000/6000 [03:09<00:00, 31.61it/s]\n"
     ]
    },
    {
     "name": "stdout",
     "output_type": "stream",
     "text": [
      "Epoch 2/20, Loss: 0.0447\n"
     ]
    },
    {
     "name": "stderr",
     "output_type": "stream",
     "text": [
      "Epoch 3/20: 100%|██████████| 6000/6000 [03:51<00:00, 25.90it/s]\n"
     ]
    },
    {
     "name": "stdout",
     "output_type": "stream",
     "text": [
      "Epoch 3/20, Loss: 0.0374\n"
     ]
    },
    {
     "name": "stderr",
     "output_type": "stream",
     "text": [
      "Epoch 4/20: 100%|██████████| 6000/6000 [05:16<00:00, 18.98it/s]\n"
     ]
    },
    {
     "name": "stdout",
     "output_type": "stream",
     "text": [
      "Epoch 4/20, Loss: 0.0341\n"
     ]
    },
    {
     "name": "stderr",
     "output_type": "stream",
     "text": [
      "Epoch 5/20: 100%|██████████| 6000/6000 [04:48<00:00, 20.83it/s]\n"
     ]
    },
    {
     "name": "stdout",
     "output_type": "stream",
     "text": [
      "Epoch 5/20, Loss: 0.0322\n"
     ]
    },
    {
     "name": "stderr",
     "output_type": "stream",
     "text": [
      "Epoch 6/20: 100%|██████████| 6000/6000 [04:24<00:00, 22.65it/s]\n"
     ]
    },
    {
     "name": "stdout",
     "output_type": "stream",
     "text": [
      "Epoch 6/20, Loss: 0.0307\n"
     ]
    },
    {
     "name": "stderr",
     "output_type": "stream",
     "text": [
      "Epoch 7/20: 100%|██████████| 6000/6000 [04:23<00:00, 22.74it/s]\n"
     ]
    },
    {
     "name": "stdout",
     "output_type": "stream",
     "text": [
      "Epoch 7/20, Loss: 0.0295\n"
     ]
    },
    {
     "name": "stderr",
     "output_type": "stream",
     "text": [
      "Epoch 8/20: 100%|██████████| 6000/6000 [04:20<00:00, 23.00it/s]\n"
     ]
    },
    {
     "name": "stdout",
     "output_type": "stream",
     "text": [
      "Epoch 8/20, Loss: 0.0284\n"
     ]
    },
    {
     "name": "stderr",
     "output_type": "stream",
     "text": [
      "Epoch 9/20: 100%|██████████| 6000/6000 [04:16<00:00, 23.35it/s]\n"
     ]
    },
    {
     "name": "stdout",
     "output_type": "stream",
     "text": [
      "Epoch 9/20, Loss: 0.0273\n"
     ]
    },
    {
     "name": "stderr",
     "output_type": "stream",
     "text": [
      "Epoch 10/20: 100%|██████████| 6000/6000 [04:36<00:00, 21.70it/s]\n"
     ]
    },
    {
     "name": "stdout",
     "output_type": "stream",
     "text": [
      "Epoch 10/20, Loss: 0.0265\n"
     ]
    },
    {
     "name": "stderr",
     "output_type": "stream",
     "text": [
      "Epoch 11/20: 100%|██████████| 6000/6000 [03:51<00:00, 25.91it/s]\n"
     ]
    },
    {
     "name": "stdout",
     "output_type": "stream",
     "text": [
      "Epoch 11/20, Loss: 0.0259\n"
     ]
    },
    {
     "name": "stderr",
     "output_type": "stream",
     "text": [
      "Epoch 12/20: 100%|██████████| 6000/6000 [04:10<00:00, 23.92it/s]\n"
     ]
    },
    {
     "name": "stdout",
     "output_type": "stream",
     "text": [
      "Epoch 12/20, Loss: 0.0251\n"
     ]
    },
    {
     "name": "stderr",
     "output_type": "stream",
     "text": [
      "Epoch 13/20: 100%|██████████| 6000/6000 [03:46<00:00, 26.47it/s]\n"
     ]
    },
    {
     "name": "stdout",
     "output_type": "stream",
     "text": [
      "Epoch 13/20, Loss: 0.0243\n"
     ]
    },
    {
     "name": "stderr",
     "output_type": "stream",
     "text": [
      "Epoch 14/20: 100%|██████████| 6000/6000 [03:23<00:00, 29.41it/s]\n"
     ]
    },
    {
     "name": "stdout",
     "output_type": "stream",
     "text": [
      "Epoch 14/20, Loss: 0.0240\n"
     ]
    },
    {
     "name": "stderr",
     "output_type": "stream",
     "text": [
      "Epoch 15/20: 100%|██████████| 6000/6000 [03:32<00:00, 28.26it/s]\n"
     ]
    },
    {
     "name": "stdout",
     "output_type": "stream",
     "text": [
      "Epoch 15/20, Loss: 0.0232\n"
     ]
    },
    {
     "name": "stderr",
     "output_type": "stream",
     "text": [
      "Epoch 16/20: 100%|██████████| 6000/6000 [03:29<00:00, 28.61it/s]\n"
     ]
    },
    {
     "name": "stdout",
     "output_type": "stream",
     "text": [
      "Epoch 16/20, Loss: 0.0229\n"
     ]
    },
    {
     "name": "stderr",
     "output_type": "stream",
     "text": [
      "Epoch 17/20: 100%|██████████| 6000/6000 [03:30<00:00, 28.48it/s]\n"
     ]
    },
    {
     "name": "stdout",
     "output_type": "stream",
     "text": [
      "Epoch 17/20, Loss: 0.0224\n"
     ]
    },
    {
     "name": "stderr",
     "output_type": "stream",
     "text": [
      "Epoch 18/20: 100%|██████████| 6000/6000 [03:28<00:00, 28.82it/s]\n"
     ]
    },
    {
     "name": "stdout",
     "output_type": "stream",
     "text": [
      "Epoch 18/20, Loss: 0.0222\n"
     ]
    },
    {
     "name": "stderr",
     "output_type": "stream",
     "text": [
      "Epoch 19/20: 100%|██████████| 6000/6000 [03:25<00:00, 29.21it/s]\n"
     ]
    },
    {
     "name": "stdout",
     "output_type": "stream",
     "text": [
      "Epoch 19/20, Loss: 0.0218\n"
     ]
    },
    {
     "name": "stderr",
     "output_type": "stream",
     "text": [
      "Epoch 20/20: 100%|██████████| 6000/6000 [03:27<00:00, 28.93it/s]"
     ]
    },
    {
     "name": "stdout",
     "output_type": "stream",
     "text": [
      "Epoch 20/20, Loss: 0.0214\n",
      "Feature Extractor saved.\n"
     ]
    },
    {
     "name": "stderr",
     "output_type": "stream",
     "text": [
      "\n"
     ]
    }
   ],
   "source": [
    "# Set device\n",
    "DEVICE = \"cuda\" if torch.cuda.is_available() else \"cpu\"\n",
    "print(f\"Using device: {DEVICE}\")\n",
    "\n",
    "# Hyperparameters\n",
    "EPOCHS = 20\n",
    "LEARNING_RATE = 0.0001\n",
    "WINDOW_SIZE = 64\n",
    "STRIDE = 32\n",
    "\n",
    "# Dataset paths\n",
    "TRAIN_DIR = \"./dataset_split/train1\"\n",
    "TEST_DIR = \"./dataset_split/test1\"\n",
    "MASK_OUTPUT_DIR = \"./test_mask_results\"\n",
    "os.makedirs(MASK_OUTPUT_DIR, exist_ok=True)\n",
    "\n",
    "# Data transformations (no resizing to retain original sizes)\n",
    "transform = transforms.Compose([\n",
    "    transforms.ToTensor()  # Convert to tensor while retaining original size\n",
    "])\n",
    "\n",
    "# Custom Dataset\n",
    "class WatermarkSlidingWindowDataset(Dataset):\n",
    "    def __init__(self, watermark_dir, mask_dir, transform=None):\n",
    "        self.watermark_dir = watermark_dir\n",
    "        self.mask_dir = mask_dir\n",
    "        self.images = sorted(os.listdir(watermark_dir))\n",
    "        self.transform = transform\n",
    "\n",
    "    def __len__(self):\n",
    "        return len(self.images)\n",
    "\n",
    "    def __getitem__(self, idx):\n",
    "        watermark_path = os.path.join(self.watermark_dir, self.images[idx])\n",
    "        watermark_img = Image.open(watermark_path).convert(\"RGB\")\n",
    "        \n",
    "        mask_img = None  # Default to None in case masks are not used\n",
    "        if self.mask_dir:\n",
    "            mask_path = os.path.join(self.mask_dir, self.images[idx])\n",
    "            mask_img = Image.open(mask_path).convert(\"L\")  # Mask is single-channel\n",
    "\n",
    "        original_size = watermark_img.size  # Save original image size (width, height)\n",
    "        filename = self.images[idx]  # Save the filename for reference\n",
    "\n",
    "        if self.transform:\n",
    "            watermark_img = self.transform(watermark_img)\n",
    "            if mask_img is not None:\n",
    "                mask_img = self.transform(mask_img)\n",
    "\n",
    "        return watermark_img, mask_img, original_size, filename\n",
    "\n",
    "\n",
    "# Custom collate_fn to handle varying image sizes\n",
    "def collate_fn(batch):\n",
    "    return batch\n",
    "\n",
    "# Load training and testing datasets\n",
    "train_dataset = WatermarkSlidingWindowDataset(\n",
    "    watermark_dir=os.path.join(TRAIN_DIR, \"watermarked\"),\n",
    "    mask_dir=os.path.join(TRAIN_DIR, \"masks\"),\n",
    "    transform=transform\n",
    ")\n",
    "\n",
    "test_dataset = WatermarkSlidingWindowDataset(\n",
    "    watermark_dir=os.path.join(TEST_DIR, \"watermarked\"),\n",
    "    mask_dir=os.path.join(TEST_DIR, \"masks\"),\n",
    "    transform=transform\n",
    ")\n",
    "\n",
    "train_loader = DataLoader(train_dataset, batch_size=1, shuffle=True, collate_fn=collate_fn)\n",
    "test_loader = DataLoader(test_dataset, batch_size=1, shuffle=False, collate_fn=collate_fn)\n",
    "\n",
    "class UNetFeatureExtractor(nn.Module):\n",
    "    def __init__(self, in_channels=3, out_channels=1):\n",
    "        super(UNetFeatureExtractor, self).__init__()\n",
    "\n",
    "        # Encoder: Downsampling layers\n",
    "        self.encoder1 = self.conv_block(in_channels, 64)\n",
    "        self.encoder2 = self.conv_block(64, 128)\n",
    "        self.encoder3 = self.conv_block(128, 256)\n",
    "        self.encoder4 = self.conv_block(256, 512)\n",
    "        \n",
    "        # Middle layer\n",
    "        self.middle = self.conv_block(512, 1024, is_middle=True)\n",
    "        \n",
    "        # Decoder: Upsampling layers\n",
    "        self.decoder4 = self.upconv_block(1024, 512)\n",
    "        self.decoder3 = self.upconv_block(512, 256)\n",
    "        self.decoder2 = self.upconv_block(256, 128)\n",
    "        self.decoder1 = self.upconv_block(128, 64)\n",
    "\n",
    "        # Layers to adjust channel dimensions after skip connections\n",
    "        self.conv4 = nn.Conv2d(1024, 512, kernel_size=1)  # Adjust channels\n",
    "        self.conv3 = nn.Conv2d(512, 256, kernel_size=1)\n",
    "        self.conv2 = nn.Conv2d(256, 128, kernel_size=1)\n",
    "        self.conv1 = nn.Conv2d(128, 64, kernel_size=1)\n",
    "        \n",
    "        # Final output layer\n",
    "        self.final_conv = nn.Conv2d(64, out_channels, kernel_size=1)\n",
    "        self.sigmoid = nn.Sigmoid()  # Outputs a mask with values in [0, 1]\n",
    "\n",
    "    def conv_block(self, in_channels, out_channels, is_middle=False):\n",
    "        \"\"\"Helper function to create convolutional blocks, mainly for the encoder and middle layers.\"\"\"\n",
    "        layers = [\n",
    "            nn.Conv2d(in_channels, out_channels, kernel_size=3, padding=1),\n",
    "            nn.ReLU(inplace=True),\n",
    "            nn.Conv2d(out_channels, out_channels, kernel_size=3, padding=1),\n",
    "            nn.ReLU(inplace=True),\n",
    "        ]\n",
    "        if not is_middle:\n",
    "            layers.append(nn.MaxPool2d(2))  # Downsample\n",
    "        return nn.Sequential(*layers)\n",
    "\n",
    "    def upconv_block(self, in_channels, out_channels):\n",
    "        \"\"\"Upsampling block in the decoder, using transpose convolution.\"\"\"\n",
    "        return nn.Sequential(\n",
    "            nn.ConvTranspose2d(in_channels, out_channels, kernel_size=2, stride=2),\n",
    "            nn.ReLU(inplace=True),\n",
    "        )\n",
    "\n",
    "    def forward(self, x):\n",
    "        # Encoding phase\n",
    "        enc1 = self.encoder1(x)  # Output: 64 channels\n",
    "        enc2 = self.encoder2(enc1)  # Output: 128 channels\n",
    "        enc3 = self.encoder3(enc2)  # Output: 256 channels\n",
    "        enc4 = self.encoder4(enc3)  # Output: 512 channels\n",
    "\n",
    "        # Middle layer\n",
    "        middle = self.middle(enc4)  # Output: 1024 channels\n",
    "        \n",
    "        # Decoding phase with skip connections\n",
    "        dec4 = self.decoder4(middle)  # Output: 512 channels\n",
    "        dec4 = F.interpolate(dec4, size=enc4.shape[2:], mode='bilinear', align_corners=False)  # Match size\n",
    "        dec4 = torch.cat([dec4, enc4], dim=1)  # Skip connection\n",
    "        dec4 = self.conv4(dec4)  # Adjust channels\n",
    "\n",
    "        dec3 = self.decoder3(dec4)  # Output: 256 channels\n",
    "        dec3 = F.interpolate(dec3, size=enc3.shape[2:], mode='bilinear', align_corners=False)  # Match size\n",
    "        dec3 = torch.cat([dec3, enc3], dim=1)  # Skip connection\n",
    "        dec3 = self.conv3(dec3)  # Adjust channels\n",
    "\n",
    "        dec2 = self.decoder2(dec3)  # Output: 128 channels\n",
    "        dec2 = F.interpolate(dec2, size=enc2.shape[2:], mode='bilinear', align_corners=False)  # Match size\n",
    "        dec2 = torch.cat([dec2, enc2], dim=1)  # Skip connection\n",
    "        dec2 = self.conv2(dec2)  # Adjust channels\n",
    "\n",
    "        dec1 = self.decoder1(dec2)  # Output: 64 channels\n",
    "        dec1 = F.interpolate(dec1, size=enc1.shape[2:], mode='bilinear', align_corners=False)  # Match size\n",
    "        dec1 = torch.cat([dec1, enc1], dim=1)  # Skip connection\n",
    "        dec1 = self.conv1(dec1)  # Adjust channels\n",
    "\n",
    "        # Final output\n",
    "        out = self.final_conv(dec1)  # Output: 1 channel\n",
    "        out = self.sigmoid(out)  # Mask output with values in [0, 1]\n",
    "        \n",
    "        return out\n",
    "\n",
    "\n",
    "\n",
    "# Initialize model, optimizer, and loss function\n",
    "model = UNetFeatureExtractor(in_channels=3, out_channels=1).to(DEVICE)\n",
    "optimizer = optim.Adam(model.parameters(), lr=LEARNING_RATE)\n",
    "criterion = nn.BCELoss()  # Binary Cross-Entropy Loss\n",
    "\n",
    "# Training loop\n",
    "print(\"Starting training...\")\n",
    "for epoch in range(EPOCHS):\n",
    "    model.train()\n",
    "    epoch_loss = 0\n",
    "    for batch in tqdm(train_loader, desc=f\"Epoch {epoch+1}/{EPOCHS}\"):\n",
    "        watermarked_imgs, masks, original_sizes, filenames = batch[0]\n",
    "        watermarked_imgs = watermarked_imgs.to(DEVICE).unsqueeze(0)  # Add batch dimension\n",
    "        masks = masks.to(DEVICE).unsqueeze(0)\n",
    "\n",
    "        optimizer.zero_grad()\n",
    "        mask_pred = model(watermarked_imgs)\n",
    "        # Resize predicted mask to target size\n",
    "        _, _, target_h, target_w = masks.shape\n",
    "        mask_pred = torch.nn.functional.interpolate(mask_pred, size=(target_h, target_w), mode='bilinear', align_corners=True)\n",
    "        loss = criterion(mask_pred, masks)\n",
    "        loss.backward()\n",
    "        optimizer.step()\n",
    "\n",
    "        epoch_loss += loss.item()\n",
    "\n",
    "    print(f\"Epoch {epoch+1}/{EPOCHS}, Loss: {epoch_loss / len(train_loader):.4f}\")\n",
    "\n",
    "# Save the model\n",
    "FEATURE_EXTRACTOR_PATH = \"feature_extractor.pth\"\n",
    "torch.save(model.state_dict(), FEATURE_EXTRACTOR_PATH)\n",
    "print(\"Feature Extractor saved.\")"
   ]
  },
  {
   "cell_type": "code",
   "execution_count": 26,
   "metadata": {},
   "outputs": [
    {
     "name": "stderr",
     "output_type": "stream",
     "text": [
      "C:\\Users\\User\\AppData\\Local\\Temp\\ipykernel_9192\\3023910116.py:3: FutureWarning: You are using `torch.load` with `weights_only=False` (the current default value), which uses the default pickle module implicitly. It is possible to construct malicious pickle data which will execute arbitrary code during unpickling (See https://github.com/pytorch/pytorch/blob/main/SECURITY.md#untrusted-models for more details). In a future release, the default value for `weights_only` will be flipped to `True`. This limits the functions that could be executed during unpickling. Arbitrary objects will no longer be allowed to be loaded via this mode unless they are explicitly allowlisted by the user via `torch.serialization.add_safe_globals`. We recommend you start setting `weights_only=True` for any use case where you don't have full control of the loaded file. Please open an issue on GitHub for any issues related to this experimental feature.\n",
      "  model.load_state_dict(torch.load(model_path, map_location=DEVICE))\n"
     ]
    },
    {
     "name": "stdout",
     "output_type": "stream",
     "text": [
      "Testing feature extractor...\n"
     ]
    },
    {
     "name": "stderr",
     "output_type": "stream",
     "text": [
      "100%|██████████| 4000/4000 [02:07<00:00, 31.47it/s]\n"
     ]
    },
    {
     "name": "stdout",
     "output_type": "stream",
     "text": [
      "All masks generated and saved.\n"
     ]
    }
   ],
   "source": [
    "def test_feature_extractor(test_loader, model_path, mask_path):\n",
    "    print(\"Testing feature extractor...\")\n",
    "    model.load_state_dict(torch.load(model_path, map_location=DEVICE))\n",
    "    model.eval()\n",
    "\n",
    "    with torch.no_grad():\n",
    "        for i, batch in enumerate(tqdm(test_loader)):\n",
    "            # Extract watermarked image, mask, original size, and filename\n",
    "            watermarked_imgs, masks, original_sizes, filenames = batch[0]\n",
    "\n",
    "            # Debug: Print the filename being processed\n",
    "            # print(f\"Processing image: {filenames}\")\n",
    "\n",
    "            watermarked_imgs = watermarked_imgs.to(DEVICE).unsqueeze(0)\n",
    "            mask_pred = model(watermarked_imgs)\n",
    "\n",
    "            # Resize predicted mask to original size\n",
    "            original_size = original_sizes  # (width, height)\n",
    "            filename = filenames\n",
    "\n",
    "            # Extract base name and ensure valid file extension\n",
    "            base_name, ext = os.path.splitext(filename)\n",
    "            if ext.lower() not in [\".jpg\", \".jpeg\", \".png\"]:  # Handle invalid extensions\n",
    "                ext = \".png\"  # Default to PNG if extension is missing or invalid\n",
    "\n",
    "            mask_pred_img = transforms.ToPILImage()(mask_pred.squeeze(0).cpu())\n",
    "            mask_pred_resized = mask_pred_img.resize(original_size, Image.BILINEAR)\n",
    "\n",
    "            # Save predicted mask\n",
    "            output_file = os.path.join(mask_path, f\"predicted_mask_{base_name}{ext}\")\n",
    "            mask_pred_resized.save(output_file)\n",
    "\n",
    "            # print(f\"Saved mask: {output_file}\")\n",
    "\n",
    "    print(\"All masks generated and saved.\")\n",
    "\n",
    "# Test the feature extractor\n",
    "test_feature_extractor(test_loader, FEATURE_EXTRACTOR_PATH, MASK_OUTPUT_DIR)\n"
   ]
  },
  {
   "cell_type": "code",
   "execution_count": 27,
   "metadata": {},
   "outputs": [
    {
     "name": "stderr",
     "output_type": "stream",
     "text": [
      "C:\\Users\\User\\AppData\\Local\\Temp\\ipykernel_9192\\3023910116.py:3: FutureWarning: You are using `torch.load` with `weights_only=False` (the current default value), which uses the default pickle module implicitly. It is possible to construct malicious pickle data which will execute arbitrary code during unpickling (See https://github.com/pytorch/pytorch/blob/main/SECURITY.md#untrusted-models for more details). In a future release, the default value for `weights_only` will be flipped to `True`. This limits the functions that could be executed during unpickling. Arbitrary objects will no longer be allowed to be loaded via this mode unless they are explicitly allowlisted by the user via `torch.serialization.add_safe_globals`. We recommend you start setting `weights_only=True` for any use case where you don't have full control of the loaded file. Please open an issue on GitHub for any issues related to this experimental feature.\n",
      "  model.load_state_dict(torch.load(model_path, map_location=DEVICE))\n"
     ]
    },
    {
     "name": "stdout",
     "output_type": "stream",
     "text": [
      "Testing feature extractor...\n"
     ]
    },
    {
     "name": "stderr",
     "output_type": "stream",
     "text": [
      "100%|██████████| 2477/2477 [00:53<00:00, 46.06it/s]"
     ]
    },
    {
     "name": "stdout",
     "output_type": "stream",
     "text": [
      "All masks generated and saved.\n"
     ]
    },
    {
     "name": "stderr",
     "output_type": "stream",
     "text": [
      "\n"
     ]
    }
   ],
   "source": [
    "# create the mask for test2\n",
    "\n",
    "# define paramete\n",
    "PART2_TEST_DIR = \"./dataset_split/test2\" # later will redefine\n",
    "PART2_TEST_MASK_DIR = \"./test_model_result/mask\" # later will redefine\n",
    "\n",
    "part2_test_dataset = WatermarkSlidingWindowDataset(\n",
    "    watermark_dir=os.path.join(PART2_TEST_DIR, \"watermarked\"),\n",
    "    mask_dir='',\n",
    "    transform=transform\n",
    ")\n",
    "\n",
    "part2_test_loader = DataLoader(part2_test_dataset, batch_size=1, shuffle=False, collate_fn=collate_fn)\n",
    "\n",
    "# predict mask\n",
    "test_feature_extractor(part2_test_loader, FEATURE_EXTRACTOR_PATH, PART2_TEST_MASK_DIR)"
   ]
  },
  {
   "cell_type": "code",
   "execution_count": 28,
   "metadata": {},
   "outputs": [
    {
     "name": "stdout",
     "output_type": "stream",
     "text": [
      "Using device: cuda\n",
      "Starting second part of training...\n"
     ]
    },
    {
     "name": "stderr",
     "output_type": "stream",
     "text": [
      "Epoch 1/20: 100%|██████████| 4000/4000 [04:36<00:00, 14.47it/s]\n"
     ]
    },
    {
     "name": "stdout",
     "output_type": "stream",
     "text": [
      "Epoch 1/20, Loss: 0.0051\n"
     ]
    },
    {
     "name": "stderr",
     "output_type": "stream",
     "text": [
      "Epoch 2/20: 100%|██████████| 4000/4000 [04:34<00:00, 14.55it/s]\n"
     ]
    },
    {
     "name": "stdout",
     "output_type": "stream",
     "text": [
      "Epoch 2/20, Loss: 0.0014\n"
     ]
    },
    {
     "name": "stderr",
     "output_type": "stream",
     "text": [
      "Epoch 3/20: 100%|██████████| 4000/4000 [04:32<00:00, 14.68it/s]\n"
     ]
    },
    {
     "name": "stdout",
     "output_type": "stream",
     "text": [
      "Epoch 3/20, Loss: 0.0013\n"
     ]
    },
    {
     "name": "stderr",
     "output_type": "stream",
     "text": [
      "Epoch 4/20: 100%|██████████| 4000/4000 [04:32<00:00, 14.65it/s]\n"
     ]
    },
    {
     "name": "stdout",
     "output_type": "stream",
     "text": [
      "Epoch 4/20, Loss: 0.0013\n"
     ]
    },
    {
     "name": "stderr",
     "output_type": "stream",
     "text": [
      "Epoch 5/20: 100%|██████████| 4000/4000 [02:57<00:00, 22.52it/s]\n"
     ]
    },
    {
     "name": "stdout",
     "output_type": "stream",
     "text": [
      "Epoch 5/20, Loss: 0.0013\n"
     ]
    },
    {
     "name": "stderr",
     "output_type": "stream",
     "text": [
      "Epoch 6/20: 100%|██████████| 4000/4000 [02:07<00:00, 31.44it/s]\n"
     ]
    },
    {
     "name": "stdout",
     "output_type": "stream",
     "text": [
      "Epoch 6/20, Loss: 0.0013\n"
     ]
    },
    {
     "name": "stderr",
     "output_type": "stream",
     "text": [
      "Epoch 7/20: 100%|██████████| 4000/4000 [02:07<00:00, 31.43it/s]\n"
     ]
    },
    {
     "name": "stdout",
     "output_type": "stream",
     "text": [
      "Epoch 7/20, Loss: 0.0012\n"
     ]
    },
    {
     "name": "stderr",
     "output_type": "stream",
     "text": [
      "Epoch 8/20: 100%|██████████| 4000/4000 [02:07<00:00, 31.32it/s]\n"
     ]
    },
    {
     "name": "stdout",
     "output_type": "stream",
     "text": [
      "Epoch 8/20, Loss: 0.0012\n"
     ]
    },
    {
     "name": "stderr",
     "output_type": "stream",
     "text": [
      "Epoch 9/20: 100%|██████████| 4000/4000 [02:08<00:00, 31.05it/s]\n"
     ]
    },
    {
     "name": "stdout",
     "output_type": "stream",
     "text": [
      "Epoch 9/20, Loss: 0.0012\n"
     ]
    },
    {
     "name": "stderr",
     "output_type": "stream",
     "text": [
      "Epoch 10/20: 100%|██████████| 4000/4000 [02:06<00:00, 31.65it/s]\n"
     ]
    },
    {
     "name": "stdout",
     "output_type": "stream",
     "text": [
      "Epoch 10/20, Loss: 0.0012\n"
     ]
    },
    {
     "name": "stderr",
     "output_type": "stream",
     "text": [
      "Epoch 11/20: 100%|██████████| 4000/4000 [02:08<00:00, 31.10it/s]\n"
     ]
    },
    {
     "name": "stdout",
     "output_type": "stream",
     "text": [
      "Epoch 11/20, Loss: 0.0012\n"
     ]
    },
    {
     "name": "stderr",
     "output_type": "stream",
     "text": [
      "Epoch 12/20: 100%|██████████| 4000/4000 [02:09<00:00, 30.92it/s]\n"
     ]
    },
    {
     "name": "stdout",
     "output_type": "stream",
     "text": [
      "Epoch 12/20, Loss: 0.0012\n"
     ]
    },
    {
     "name": "stderr",
     "output_type": "stream",
     "text": [
      "Epoch 13/20: 100%|██████████| 4000/4000 [02:06<00:00, 31.60it/s]\n"
     ]
    },
    {
     "name": "stdout",
     "output_type": "stream",
     "text": [
      "Epoch 13/20, Loss: 0.0012\n"
     ]
    },
    {
     "name": "stderr",
     "output_type": "stream",
     "text": [
      "Epoch 14/20: 100%|██████████| 4000/4000 [02:07<00:00, 31.28it/s]\n"
     ]
    },
    {
     "name": "stdout",
     "output_type": "stream",
     "text": [
      "Epoch 14/20, Loss: 0.0012\n"
     ]
    },
    {
     "name": "stderr",
     "output_type": "stream",
     "text": [
      "Epoch 15/20: 100%|██████████| 4000/4000 [02:08<00:00, 31.25it/s]\n"
     ]
    },
    {
     "name": "stdout",
     "output_type": "stream",
     "text": [
      "Epoch 15/20, Loss: 0.0012\n"
     ]
    },
    {
     "name": "stderr",
     "output_type": "stream",
     "text": [
      "Epoch 16/20: 100%|██████████| 4000/4000 [02:07<00:00, 31.46it/s]\n"
     ]
    },
    {
     "name": "stdout",
     "output_type": "stream",
     "text": [
      "Epoch 16/20, Loss: 0.0012\n"
     ]
    },
    {
     "name": "stderr",
     "output_type": "stream",
     "text": [
      "Epoch 17/20: 100%|██████████| 4000/4000 [02:06<00:00, 31.59it/s]\n"
     ]
    },
    {
     "name": "stdout",
     "output_type": "stream",
     "text": [
      "Epoch 17/20, Loss: 0.0012\n"
     ]
    },
    {
     "name": "stderr",
     "output_type": "stream",
     "text": [
      "Epoch 18/20: 100%|██████████| 4000/4000 [02:07<00:00, 31.27it/s]\n"
     ]
    },
    {
     "name": "stdout",
     "output_type": "stream",
     "text": [
      "Epoch 18/20, Loss: 0.0012\n"
     ]
    },
    {
     "name": "stderr",
     "output_type": "stream",
     "text": [
      "Epoch 19/20: 100%|██████████| 4000/4000 [02:07<00:00, 31.30it/s]\n"
     ]
    },
    {
     "name": "stdout",
     "output_type": "stream",
     "text": [
      "Epoch 19/20, Loss: 0.0012\n"
     ]
    },
    {
     "name": "stderr",
     "output_type": "stream",
     "text": [
      "Epoch 20/20: 100%|██████████| 4000/4000 [02:08<00:00, 31.24it/s]\n"
     ]
    },
    {
     "name": "stdout",
     "output_type": "stream",
     "text": [
      "Epoch 20/20, Loss: 0.0012\n",
      "Model saved successfully.\n"
     ]
    }
   ],
   "source": [
    "import os  # Import the os module\n",
    "import torch\n",
    "import shutil\n",
    "from torch.utils.data import DataLoader, Dataset  # Add Dataset\n",
    "from torchvision import transforms\n",
    "import torch.optim as optim\n",
    "from tqdm import tqdm\n",
    "from PIL import Image\n",
    "import torch.nn.functional as F\n",
    "from torch import nn\n",
    "import numpy as np  # For numerical operations\n",
    "\n",
    "# Set device\n",
    "DEVICE = \"cuda\" if torch.cuda.is_available() else \"cpu\"\n",
    "print(f\"Using device: {DEVICE}\")\n",
    "\n",
    "# Hyperparameters\n",
    "PART2_EPOCHS = 20\n",
    "PART2_LEARNING_RATE = 0.0001\n",
    "PART2_WINDOW_SIZE = 64\n",
    "PART2_STRIDE = 32\n",
    "\n",
    "# Paths\n",
    "PART2_TRAIN_DIR = \"./dataset_split/test1\"\n",
    "PART2_TEST_DIR = \"./dataset_split/test2\"\n",
    "PART2_TRAIN_MASK_DIR = \"./test_mask_results\"\n",
    "PART2_TEST_MASK_DIR = \"./test_model_result/mask\"\n",
    "PART2_OUTPUT_DIR = \"./test_model_result/result\"\n",
    "\n",
    "# Create output directory for test results\n",
    "os.makedirs(PART2_OUTPUT_DIR, exist_ok=True)\n",
    "\n",
    "# Data transformations (no resizing to retain original sizes)\n",
    "transform = transforms.Compose([transforms.ToTensor()])  # Convert to tensor while retaining original size\n",
    "\n",
    "# Custom Dataset for second part of training\n",
    "class WatermarkRemovalDataset(Dataset):\n",
    "    def __init__(self, watermarked_dir, mask_dir, transform=None):\n",
    "        self.watermarked_dir = watermarked_dir\n",
    "        self.mask_dir = mask_dir\n",
    "        self.transform = transform\n",
    "\n",
    "        # Match watermarked image filenames with their corresponding predicted masks\n",
    "        self.watermarked_files = sorted(os.listdir(watermarked_dir))\n",
    "        self.mask_files = {f: os.path.join(mask_dir, f) for f in os.listdir(mask_dir)}\n",
    "\n",
    "    def __len__(self):\n",
    "        return len(self.watermarked_files)\n",
    "\n",
    "    def __getitem__(self, idx):\n",
    "        watermarked_filename = self.watermarked_files[idx]\n",
    "        watermarked_path = os.path.join(self.watermarked_dir, watermarked_filename)\n",
    "\n",
    "        # Ensure the corresponding mask exists\n",
    "        mask_path = self.mask_files.get(f'predicted_mask_{watermarked_filename}')\n",
    "        if not mask_path or not os.path.exists(mask_path):\n",
    "            raise FileNotFoundError(f\"Mask not found for file: {watermarked_filename}\")\n",
    "\n",
    "        watermarked_img = Image.open(watermarked_path).convert(\"RGB\")\n",
    "        mask_img = Image.open(mask_path).convert(\"L\")  # Mask is single-channel\n",
    "\n",
    "        # Resize mask to match the watermarked image dimensions\n",
    "        mask_img = mask_img.resize(watermarked_img.size, Image.NEAREST)\n",
    "\n",
    "        original_size = watermarked_img.size  # Save original image size (width, height)\n",
    "        filename = watermarked_filename  # Save the filename for reference\n",
    "\n",
    "        if self.transform:\n",
    "            watermarked_img = self.transform(watermarked_img)\n",
    "            mask_img = self.transform(mask_img)\n",
    "\n",
    "        return watermarked_img, mask_img, original_size, filename\n",
    "\n",
    "# Custom collate_fn to handle varying image sizes\n",
    "def collate_fn(batch):\n",
    "    return batch\n",
    "\n",
    "# Load datasets\n",
    "part2_train_dataset = WatermarkRemovalDataset(\n",
    "    watermarked_dir=os.path.join(PART2_TRAIN_DIR, \"watermarked\"),\n",
    "    mask_dir=PART2_TRAIN_MASK_DIR,\n",
    "    transform=transform\n",
    ")\n",
    "part2_test_dataset = WatermarkRemovalDataset(\n",
    "    watermarked_dir=os.path.join(PART2_TEST_DIR, \"watermarked\"),\n",
    "    mask_dir=PART2_TEST_MASK_DIR,\n",
    "    transform=transform\n",
    ")\n",
    "\n",
    "part2_train_loader = DataLoader(part2_train_dataset, batch_size=1, shuffle=True, collate_fn=collate_fn)\n",
    "part2_test_loader = DataLoader(part2_test_dataset, batch_size=1, shuffle=False, collate_fn=collate_fn)\n",
    "\n",
    "# Simple UNet-like architecture for second part\n",
    "class UNetForWatermarkRemoval(nn.Module):\n",
    "    def __init__(self, in_channels=3, out_channels=3):\n",
    "        super(UNetForWatermarkRemoval, self).__init__()\n",
    "\n",
    "        # Encoder: Downsampling layers\n",
    "        self.encoder1 = self.conv_block(in_channels, 64)\n",
    "        self.encoder2 = self.conv_block(64, 128)\n",
    "        self.encoder3 = self.conv_block(128, 256)\n",
    "        self.encoder4 = self.conv_block(256, 512)\n",
    "        \n",
    "        # Middle layer\n",
    "        self.middle = self.conv_block(512, 1024, is_middle=True)\n",
    "        \n",
    "        # Decoder: Upsampling layers\n",
    "        self.decoder4 = self.upconv_block(1024, 512)\n",
    "        self.decoder3 = self.upconv_block(512, 256)\n",
    "        self.decoder2 = self.upconv_block(256, 128)\n",
    "        self.decoder1 = self.upconv_block(128, 64)\n",
    "\n",
    "        # Layers to adjust channel dimensions after skip connections\n",
    "        self.conv4 = nn.Conv2d(1024, 512, kernel_size=1)  # Adjust channels\n",
    "        self.conv3 = nn.Conv2d(512, 256, kernel_size=1)\n",
    "        self.conv2 = nn.Conv2d(256, 128, kernel_size=1)\n",
    "        self.conv1 = nn.Conv2d(128, 64, kernel_size=1)\n",
    "        \n",
    "        # Final output layer (3 channels for RGB output)\n",
    "        self.final_conv = nn.Conv2d(64, out_channels, kernel_size=1)\n",
    "\n",
    "    def conv_block(self, in_channels, out_channels, is_middle=False):\n",
    "        \"\"\"Helper function to create convolutional blocks, mainly for the encoder and middle layers.\"\"\"\n",
    "        layers = [\n",
    "            nn.Conv2d(in_channels, out_channels, kernel_size=3, padding=1),\n",
    "            nn.ReLU(inplace=True),\n",
    "            nn.Conv2d(out_channels, out_channels, kernel_size=3, padding=1),\n",
    "            nn.ReLU(inplace=True),\n",
    "        ]\n",
    "        if not is_middle:\n",
    "            layers.append(nn.MaxPool2d(2))  # Downsample\n",
    "        return nn.Sequential(*layers)\n",
    "\n",
    "    def upconv_block(self, in_channels, out_channels):\n",
    "        \"\"\"Upsampling block in the decoder, using transpose convolution.\"\"\"\n",
    "        return nn.Sequential(\n",
    "            nn.ConvTranspose2d(in_channels, out_channels, kernel_size=2, stride=2),\n",
    "            nn.ReLU(inplace=True),\n",
    "        )\n",
    "\n",
    "    def forward(self, x, mask):\n",
    "        # Resize mask to match the input dimensions\n",
    "        mask = F.interpolate(mask, size=x.shape[2:], mode='bilinear', align_corners=False)\n",
    "\n",
    "        # Combine watermarked image and mask\n",
    "        x = torch.cat([x, mask], dim=1)  # Concatenate along the channel dimension\n",
    "\n",
    "        # Encoding phase\n",
    "        enc1 = self.encoder1(x)\n",
    "        enc2 = self.encoder2(enc1)\n",
    "        enc3 = self.encoder3(enc2)\n",
    "        enc4 = self.encoder4(enc3)\n",
    "\n",
    "        # Middle layer\n",
    "        middle = self.middle(enc4)\n",
    "\n",
    "        # Decoding phase with skip connections\n",
    "        dec4 = self.decoder4(middle)\n",
    "        dec4 = F.interpolate(dec4, size=enc4.shape[2:], mode='bilinear', align_corners=False)\n",
    "        dec4 = torch.cat([dec4, enc4], dim=1)\n",
    "        dec4 = self.conv4(dec4)\n",
    "\n",
    "        dec3 = self.decoder3(dec4)\n",
    "        dec3 = F.interpolate(dec3, size=enc3.shape[2:], mode='bilinear', align_corners=False)\n",
    "        dec3 = torch.cat([dec3, enc3], dim=1)\n",
    "        dec3 = self.conv3(dec3)\n",
    "\n",
    "        dec2 = self.decoder2(dec3)\n",
    "        dec2 = F.interpolate(dec2, size=enc2.shape[2:], mode='bilinear', align_corners=False)\n",
    "        dec2 = torch.cat([dec2, enc2], dim=1)\n",
    "        dec2 = self.conv2(dec2)\n",
    "\n",
    "        dec1 = self.decoder1(dec2)\n",
    "        dec1 = F.interpolate(dec1, size=enc1.shape[2:], mode='bilinear', align_corners=False)\n",
    "        dec1 = torch.cat([dec1, enc1], dim=1)\n",
    "        dec1 = self.conv1(dec1)\n",
    "\n",
    "        # Final output\n",
    "        out = self.final_conv(dec1)\n",
    "\n",
    "        # Resize output to match input dimensions\n",
    "        out = F.interpolate(out, size=x.shape[2:], mode='bilinear', align_corners=False)\n",
    "\n",
    "        return out\n",
    "\n",
    "\n",
    "# Initialize model, optimizer, and loss function\n",
    "part2_model = UNetForWatermarkRemoval(in_channels=4, out_channels=3).to(DEVICE)  # In: 3 for image + 1 for mask\n",
    "part2_optimizer = optim.Adam(part2_model.parameters(), lr=0.0001)\n",
    "part2_criterion = nn.MSELoss()  # Mean Squared Error Loss (as we are trying to recover the clean image)\n",
    "\n",
    "# Training loop for part 2\n",
    "print(\"Starting second part of training...\")\n",
    "for epoch in range(PART2_EPOCHS):\n",
    "    part2_model.train()\n",
    "    epoch_loss = 0\n",
    "    for batch in tqdm(part2_train_loader, desc=f\"Epoch {epoch+1}/{PART2_EPOCHS}\"):\n",
    "        watermarked_imgs, masks, original_sizes, filenames = batch[0]\n",
    "        watermarked_imgs = watermarked_imgs.to(DEVICE).unsqueeze(0)  # Add batch dimension\n",
    "        masks = masks.to(DEVICE).unsqueeze(0)\n",
    "\n",
    "        part2_optimizer.zero_grad()\n",
    "        cleaned_img_pred = part2_model(watermarked_imgs, masks)  # Predict cleaned image\n",
    "        loss = part2_criterion(cleaned_img_pred, watermarked_imgs)  # Compare to original watermarked image\n",
    "        loss.backward()\n",
    "        part2_optimizer.step()\n",
    "\n",
    "        epoch_loss += loss.item()\n",
    "\n",
    "    print(f\"Epoch {epoch+1}/{PART2_EPOCHS}, Loss: {epoch_loss / len(part2_train_loader):.4f}\")\n",
    "\n",
    "# Save the model\n",
    "PART2_MODEL_PATH = \"watermark_removal_model.pth\"\n",
    "torch.save(part2_model.state_dict(), PART2_MODEL_PATH)\n",
    "print(\"Model saved successfully.\")"
   ]
  },
  {
   "cell_type": "code",
   "execution_count": 29,
   "metadata": {},
   "outputs": [
    {
     "name": "stderr",
     "output_type": "stream",
     "text": [
      "Testing the model: 100%|██████████| 2477/2477 [01:26<00:00, 28.70it/s]\n"
     ]
    }
   ],
   "source": [
    "from PIL import Image\n",
    "import numpy as np\n",
    "import os\n",
    "import torch.nn.functional as F\n",
    "from tqdm import tqdm\n",
    "\n",
    "# Testing loop\n",
    "for batch in tqdm(part2_test_loader, desc=\"Testing the model\"):\n",
    "    with torch.no_grad():\n",
    "        # Unpack the batch\n",
    "        watermarked_imgs, masks, original_sizes, filenames = zip(*batch)\n",
    "\n",
    "        # Convert input tensors to batch format and send to device\n",
    "        watermarked_imgs = torch.stack(watermarked_imgs).to(DEVICE)  # Shape: (batch_size, 3, H, W)\n",
    "        masks = torch.stack(masks).to(DEVICE)  # Shape: (batch_size, 1, H, W)\n",
    "\n",
    "        # Model prediction: pass watermarked images and masks separately\n",
    "        try:\n",
    "            cleaned_img_pred = part2_model(watermarked_imgs, masks)\n",
    "        except RuntimeError as e:\n",
    "            print(f\"Error during model prediction: {e}\")\n",
    "            continue\n",
    "\n",
    "        # Save predictions\n",
    "        for i, filename in enumerate(filenames):\n",
    "            # Resize the predicted image to the original size\n",
    "            resized_pred = F.interpolate(\n",
    "                cleaned_img_pred[i:i + 1],  # Select a single image\n",
    "                size=(original_sizes[i][1], original_sizes[i][0]),  # Convert (width, height) -> (height, width)\n",
    "                mode='bilinear',\n",
    "                align_corners=False,\n",
    "            ).squeeze(0)  # Remove the batch dimension\n",
    "            \n",
    "            # Convert tensor to image format\n",
    "            resized_pred_np = resized_pred.cpu().numpy().transpose(1, 2, 0)  # (C, H, W) -> (H, W, C)\n",
    "            resized_pred_img = (np.clip(resized_pred_np, 0, 1) * 255).astype(np.uint8)  # Scale to valid image range\n",
    "\n",
    "            # Save the image\n",
    "            Image.fromarray(resized_pred_img).save(os.path.join(PART2_OUTPUT_DIR, filename))\n"
   ]
  }
 ],
 "metadata": {
  "kernelspec": {
   "display_name": "Python 3",
   "language": "python",
   "name": "python3"
  },
  "language_info": {
   "codemirror_mode": {
    "name": "ipython",
    "version": 3
   },
   "file_extension": ".py",
   "mimetype": "text/x-python",
   "name": "python",
   "nbconvert_exporter": "python",
   "pygments_lexer": "ipython3",
   "version": "3.12.5"
  }
 },
 "nbformat": 4,
 "nbformat_minor": 2
}
